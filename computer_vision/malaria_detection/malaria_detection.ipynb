{
  "nbformat": 4,
  "nbformat_minor": 0,
  "metadata": {
    "colab": {
      "name": "malaria_detection.ipynb",
      "version": "0.3.2",
      "provenance": [],
      "collapsed_sections": [
        "QIA3zpdvxQq_"
      ],
      "include_colab_link": true
    },
    "kernelspec": {
      "name": "python3",
      "display_name": "Python 3"
    },
    "accelerator": "GPU"
  },
  "cells": [
    {
      "cell_type": "markdown",
      "metadata": {
        "id": "view-in-github",
        "colab_type": "text"
      },
      "source": [
        "<a href=\"https://colab.research.google.com/github/teymour-aldridge/NN/blob/master/computer_vision/malaria_detection/malaria_detection.ipynb\" target=\"_parent\"><img src=\"https://colab.research.google.com/assets/colab-badge.svg\" alt=\"Open In Colab\"/></a>"
      ]
    },
    {
      "metadata": {
        "id": "4mxpxfVVsrRR",
        "colab_type": "code",
        "colab": {}
      },
      "cell_type": "code",
      "source": [
        "import torch\n",
        "from torch import nn\n",
        "import torch.nn.functional as F\n",
        "import matplotlib.pyplot as plt\n",
        "# Set the default device (either cpu or gpu) \n",
        "device = torch.device(\"cuda\" if torch.cuda.is_available() else \"cpu\")"
      ],
      "execution_count": 0,
      "outputs": []
    },
    {
      "metadata": {
        "id": "ViAOq7P8s0o0",
        "colab_type": "code",
        "outputId": "212935a8-f9b2-4888-f3e3-da8468367ce5",
        "colab": {
          "base_uri": "https://localhost:8080/",
          "height": 35
        }
      },
      "cell_type": "code",
      "source": [
        "from google.colab import drive\n",
        "drive.mount('/content/gdrive', force_remount=True)"
      ],
      "execution_count": 0,
      "outputs": [
        {
          "output_type": "stream",
          "text": [
            "Mounted at /content/gdrive\n"
          ],
          "name": "stdout"
        }
      ]
    },
    {
      "metadata": {
        "id": "QIA3zpdvxQq_",
        "colab_type": "text"
      },
      "cell_type": "markdown",
      "source": [
        "# Download files\n",
        "\n",
        "The first command `!wget ... ` downloads the data files from the NIH servers. The quotes following `-P` specifies the path (https://en.wikipedia.org/wiki/Path_(computing)) where the zip file will be saved to. By editing this, you can save the files to a different directory, e.g. `!wget -P \"/Users/<your username>/Desktop\" https://ceb.nlm.nih.gov/proj/malaria/cell_images.zip` would save the files on your Desktop (on a Linux or Unix machine).\n",
        "\n",
        "The second command `!unzip ...` unzips the files. You can manually unzip the files (by clicking on the file) as well. The flag `-q` tells the command to run quietly (it doesn't print the names of all 20,000 and something files into the console). The argument passed to the `-d` flag (the text in quotes after the `-d`) specifies where the file should be saved. The text after the `-q` flag specifies where the file has been saved."
      ]
    },
    {
      "metadata": {
        "id": "9esB4TAJtkzZ",
        "colab_type": "code",
        "colab": {}
      },
      "cell_type": "code",
      "source": [
        "# !wget -P \"/content/gdrive/My Drive/Computing/ML/Computer Vision/Malaria detection/\" https://ceb.nlm.nih.gov/proj/malaria/cell_images.zip"
      ],
      "execution_count": 0,
      "outputs": []
    },
    {
      "metadata": {
        "id": "UYr8HEojubGl",
        "colab_type": "code",
        "colab": {}
      },
      "cell_type": "code",
      "source": [
        "# !unzip -q \"/content/gdrive/My Drive/Computing/ML/Computer Vision/Malaria detection/cell_images.zip\" -d \"/content/gdrive/My Drive/Computing/ML/Computer Vision/Malaria detection/\""
      ],
      "execution_count": 0,
      "outputs": []
    },
    {
      "metadata": {
        "id": "Q7KKx3-FxTId",
        "colab_type": "text"
      },
      "cell_type": "markdown",
      "source": [
        "# Data preprocessing\n",
        "\n",
        "The `base_path` variable is a path to the directory in which the zip file has been extracted to. \n",
        "`model_save_path` specifies where the parameters of our machine learning model should be saved to. "
      ]
    },
    {
      "metadata": {
        "id": "RlaBEq_txVcS",
        "colab_type": "code",
        "colab": {}
      },
      "cell_type": "code",
      "source": [
        "base_path = \"/content/gdrive/My Drive/Computing/ML/Computer Vision/Malaria detection/cell_images\"\n",
        "model_save_path = \"/content/gdrive/My Drive/Computing/ML/Computer Vision/Malaria detection/\""
      ],
      "execution_count": 0,
      "outputs": []
    },
    {
      "metadata": {
        "id": "ZrIxjlHFa3wK",
        "colab_type": "text"
      },
      "cell_type": "markdown",
      "source": [
        "## Dataset class"
      ]
    },
    {
      "metadata": {
        "id": "gvrtPnsuMJ9J",
        "colab_type": "text"
      },
      "cell_type": "markdown",
      "source": [
        "## Indices\n",
        "\n",
        "Here we create an index, specifying where all the files are and whether they are images of parasitized or uninfected cells. "
      ]
    },
    {
      "metadata": {
        "id": "6llJaSg96l69",
        "colab_type": "code",
        "colab": {}
      },
      "cell_type": "code",
      "source": [
        "import os\n",
        "import pandas as pd\n",
        "\n",
        "# This takes time as there are 20,000 images\n",
        "\n",
        "classes = {\n",
        "    'Parasitized': 1,\n",
        "    'Uninfected': 0\n",
        "}\n",
        "\n",
        "train_index = pd.DataFrame(columns=['class', 'path'])\n",
        "test_index = pd.DataFrame(columns=['class', 'path'])\n",
        "\n",
        "# Iterate through the (two) directories where the data is stored\n",
        "# os.listdir() returns a list with the content of the directory specified, in this case the variable `base_path`\n",
        "# The list returned will look like this: ['Parasitized', 'Uninfected']. We want to iterate through these two folders\n",
        "# and add 80% of these files to our training dataset and 20% to our test dataset.\n",
        "for dir in os.listdir(base_path):\n",
        "  # Generate an index for the directory we are in (either the one with parasitized cells or the one with \n",
        "  # uninfected cells)\n",
        "  directory_index = os.listdir(os.path.join(base_path, dir))\n",
        "  # len(directory_index)*4/5 means that 80% of the dataset will be for training as we go from item 0 (computers count\n",
        "  # from 0) to the item at len(directory_index)*4/5. We convert this into an int as python cannot iterate to floats\n",
        "  for i in range(int(len(directory_index)*(4/5))):\n",
        "    train_index = train_index.append({\n",
        "        'class': classes[dir],\n",
        "        'path': os.path.join(base_path, dir, directory_index[i])\n",
        "    }, ignore_index = True)\n",
        "  # The remaining 20% of the dataset is left for testing\n",
        "  for i in range(int(len(directory_index)*(4/5)), len(directory_index)):\n",
        "    test_index = test_index.append({\n",
        "        'class': classes[dir],\n",
        "        'path': os.path.join(base_path, dir, directory_index[i])\n",
        "    }, ignore_index = True)"
      ],
      "execution_count": 0,
      "outputs": []
    },
    {
      "metadata": {
        "id": "zgYxMUpU51zR",
        "colab_type": "code",
        "colab": {}
      },
      "cell_type": "code",
      "source": [
        "from torch.utils.data import Dataset, DataLoader\n",
        "from sklearn.utils import shuffle\n",
        "from PIL import Image\n",
        "class IndexedImageDataset(Dataset):\n",
        "    def __init__(self, index, transform=None):\n",
        "      \n",
        "        assert isinstance(index, pd.DataFrame)\n",
        "        # Randomly shuffle the index\n",
        "        self.index = shuffle(index)\n",
        "        self.transform = transform\n",
        "        self.transform = transform\n",
        "\n",
        "    def __len__(self):\n",
        "        return len(self.index.index)  \n",
        "\n",
        "    def __getitem__(self, n):\n",
        "        x, y = self.index['path'].iloc[n], self.index['class'].iloc[n]\n",
        "        x = Image.open(x)\n",
        "          \n",
        "        if self.transform:\n",
        "          x = self.transform(x)\n",
        "        \n",
        "        # Convnets want double tensors\n",
        "        x.double()\n",
        "        \n",
        "        return x, y"
      ],
      "execution_count": 0,
      "outputs": []
    },
    {
      "metadata": {
        "id": "0hEULSko6E6C",
        "colab_type": "code",
        "colab": {}
      },
      "cell_type": "code",
      "source": [
        "from torchvision import transforms\n",
        "\n",
        "transform = transforms.Compose([\n",
        "    transforms.Resize((100, 100)),\n",
        "    transforms.ToTensor()\n",
        "])\n",
        "\n",
        "train_dataset = IndexedImageDataset(train_index, transform)\n",
        "test_dataset = IndexedImageDataset(test_index, transform)"
      ],
      "execution_count": 0,
      "outputs": []
    },
    {
      "metadata": {
        "id": "5JG-SwjiMTGf",
        "colab_type": "code",
        "outputId": "204c86fd-459f-42a8-f5d2-ca2a349c1fb1",
        "colab": {
          "base_uri": "https://localhost:8080/",
          "height": 383
        }
      },
      "cell_type": "code",
      "source": [
        "print(type(train_dataset[50][0]))\n",
        "plt.imshow(transforms.ToPILImage()(train_dataset[50][0]))\n",
        "train_dataset[50][0].shape\n",
        "train_dataset[50][1]"
      ],
      "execution_count": 0,
      "outputs": [
        {
          "output_type": "stream",
          "text": [
            "<class 'torch.Tensor'>\n"
          ],
          "name": "stdout"
        },
        {
          "output_type": "execute_result",
          "data": {
            "text/plain": [
              "1"
            ]
          },
          "metadata": {
            "tags": []
          },
          "execution_count": 50
        },
        {
          "output_type": "display_data",
          "data": {
            "image/png": "[encoded data removed]",
            "text/plain": [
              "<Figure size 576x396 with 1 Axes>"
            ]
          },
          "metadata": {
            "tags": []
          }
        }
      ]
    },
    {
      "metadata": {
        "id": "Y_yRQiOeMdHW",
        "colab_type": "code",
        "colab": {}
      },
      "cell_type": "code",
      "source": [
        "train_loader = DataLoader(\n",
        "    train_dataset,\n",
        "    batch_size=64,\n",
        "    num_workers=8,\n",
        "    shuffle=False\n",
        ")"
      ],
      "execution_count": 0,
      "outputs": []
    },
    {
      "metadata": {
        "id": "-eQgs6pja73g",
        "colab_type": "text"
      },
      "cell_type": "markdown",
      "source": [
        "# Neural network"
      ]
    },
    {
      "metadata": {
        "id": "B1FnlofmNDIb",
        "colab_type": "code",
        "colab": {}
      },
      "cell_type": "code",
      "source": [
        "from torch import nn\n",
        "import torch.nn.functional as F\n",
        "\n",
        "class MalariaNetwork(nn.Module):\n",
        "  def __init__(self, num_classes=2):\n",
        "    super(MalariaNetwork, self).__init__()\n",
        "    self.conv1 = nn.Conv2d(3, 16, kernel_size=4, padding=1).double()\n",
        "    self.conv2 = nn.Conv2d(16, 32, kernel_size=4, padding=1).double()\n",
        "    self.conv3 = nn.Conv2d(32, 64, kernel_size=4, padding=1).double()\n",
        "    self.conv4 = nn.Conv2d(64, 128, kernel_size=4, padding=1).double()\n",
        "    self.fc = nn.Linear(128*5*5, 64)\n",
        "    self.fc2 = nn.Linear(64, num_classes)\n",
        "  def forward(self, x):\n",
        "    x = x.to(device)\n",
        "    x = x.double()\n",
        "    x = F.max_pool2d(torch.tanh(self.conv1(x)), 2)\n",
        "    x = F.max_pool2d(torch.tanh(self.conv2(x)), 2)\n",
        "    x = F.max_pool2d(torch.tanh(self.conv3(x)), 2)\n",
        "    x = F.max_pool2d(torch.tanh(self.conv4(x)), 2)\n",
        "    \n",
        "    x = x.reshape(x.size(0), -1).float()\n",
        "    \n",
        "    x = torch.tanh(self.fc(x))\n",
        "    x = self.fc2(x)\n",
        "    return F.softmax(x)"
      ],
      "execution_count": 0,
      "outputs": []
    },
    {
      "metadata": {
        "id": "lhqsoGa6NPT8",
        "colab_type": "code",
        "outputId": "55de6f99-ca4e-4be9-c5a4-4d2680986f23",
        "colab": {
          "base_uri": "https://localhost:8080/",
          "height": 35
        }
      },
      "cell_type": "code",
      "source": [
        "n_epochs = 100\n",
        "model = MalariaNetwork()\n",
        "model.to(device)\n",
        "learning_rate = 1e-2\n",
        "optimizer = torch.optim.SGD(model.parameters(), lr=learning_rate)\n",
        "loss_fn = nn.CrossEntropyLoss()\n",
        "loss_fn.to(device)"
      ],
      "execution_count": 0,
      "outputs": [
        {
          "output_type": "execute_result",
          "data": {
            "text/plain": [
              "CrossEntropyLoss()"
            ]
          },
          "metadata": {
            "tags": []
          },
          "execution_count": 8
        }
      ]
    },
    {
      "metadata": {
        "id": "3-Q7-uK0NXoT",
        "colab_type": "code",
        "outputId": "4caa6968-9d61-414f-8b1e-c7e36cf69c05",
        "colab": {
          "base_uri": "https://localhost:8080/",
          "height": 122
        }
      },
      "cell_type": "code",
      "source": [
        "import os\n",
        "loop_count = os.path.join(model_save_path, 'epoch.txt')\n",
        "model_path = os.path.join(model_save_path, 'malaria_model_weights.pt')\n",
        "\n",
        "if os.path.isfile(loop_count): # Resume training from earlier save\n",
        "  \n",
        "  with open(os.path.join(loop_count)) as epoch_count:\n",
        "    epoch_number = int(epoch_count.read())\n",
        "    print(\"Picked up from: \" + str(epoch_number))\n",
        "  print(os.path.isfile(model_path))\n",
        "  model.load_state_dict(torch.load(model_path))\n",
        "\n",
        "\n",
        "else:\n",
        "  \n",
        "  epoch_number = 0 # Start from epoch 0\n",
        "\n",
        "\n",
        "temp_losses = 0\n",
        "loss_length = 0\n",
        "\n",
        "for epoch in range(epoch_number, n_epochs):\n",
        "  \n",
        "  for imgs, labels in train_loader:\n",
        "    \n",
        "    imgs.to(device)\n",
        "    labels.to(device)\n",
        "    \n",
        "    outputs = model(imgs)\n",
        "    outputs.to(device)\n",
        "    \n",
        "    loss = loss_fn(outputs, labels.cuda())\n",
        "    \n",
        "    temp_losses+=loss\n",
        "    loss_length+=1\n",
        "    \n",
        "    optimizer.zero_grad()\n",
        "    loss.backward()\n",
        "    optimizer.step()\n",
        "\n",
        "  loss_average = temp_losses/loss_length\n",
        "  loss_length = 0\n",
        "  temp_losses = 0\n",
        "\n",
        "  \n",
        "  print(\"Epoch: %d, Loss: %f\" % (epoch, loss_average))\n",
        "  \n",
        "  torch.save(model.state_dict(), os.path.join(model_save_path, 'malaria_model_weights.pt'))\n",
        "  \n",
        "  with open(os.path.join(model_save_path, 'epoch.txt'), 'w+') as epoch_count:\n",
        "    print(\"Saved epoch number.\")\n",
        "    epoch_count.write(str(epoch))\n",
        "    \n",
        "  with open(os.path.join(model_save_path, 'losses.txt'), 'a+') as loss_file:\n",
        "    loss_file.write(str(loss_average) + \"\\n\")\n",
        "  "
      ],
      "execution_count": 0,
      "outputs": [
        {
          "output_type": "stream",
          "text": [
            "Picked up from: 99\n",
            "True\n"
          ],
          "name": "stdout"
        },
        {
          "output_type": "stream",
          "text": [
            "/usr/local/lib/python3.6/dist-packages/ipykernel_launcher.py:25: UserWarning: Implicit dimension choice for softmax has been deprecated. Change the call to include dim=X as an argument.\n"
          ],
          "name": "stderr"
        },
        {
          "output_type": "stream",
          "text": [
            "Epoch: 99, Loss: 0.351285\n",
            "Saved epoch number.\n"
          ],
          "name": "stdout"
        }
      ]
    },
    {
      "metadata": {
        "id": "ywFUkKMRYqcU",
        "colab_type": "code",
        "colab": {}
      },
      "cell_type": "code",
      "source": [
        "# Evaluate model\n",
        "model.load_state_dict(torch.load(os.path.join(model_save_path, 'malaria_model_weights.pt')))\n",
        "from IPython.display import clear_output\n",
        "model.eval()\n",
        "n=1\n",
        "print(test_dataset[n][1])\n",
        "x=model(torch.unsqueeze(test_dataset[n][0], 0))\n",
        "n_false=0\n",
        "i=0\n",
        "l=0\n",
        "print(len(test_dataset))\n",
        "for img, label in test_dataset:\n",
        "  pred = model(torch.unsqueeze(img, 0))\n",
        "  pred = torch.argmax(pred)\n",
        "  if i%1==0:\n",
        "    print(str(round(i/len(test_dataset)*100))+\"%\")\n",
        "  if l%100==0:\n",
        "    clear_output()\n",
        "  i+=1\n",
        "  if pred!=label:\n",
        "    n_false+=1"
      ],
      "execution_count": 0,
      "outputs": []
    },
    {
      "metadata": {
        "id": "G0A4adO7f7TC",
        "colab_type": "text"
      },
      "cell_type": "markdown",
      "source": [
        "## Accuracy"
      ]
    },
    {
      "metadata": {
        "id": "MlNu29p2j0vv",
        "colab_type": "code",
        "outputId": "3bf97c0c-b2dd-456f-b6e7-2e82d4ae0c1b",
        "colab": {
          "base_uri": "https://localhost:8080/",
          "height": 35
        }
      },
      "cell_type": "code",
      "source": [
        "print(str((1-(n_false/len(test_dataset)))*100) + \"%\")"
      ],
      "execution_count": 0,
      "outputs": [
        {
          "output_type": "stream",
          "text": [
            "95.04716981132076%\n"
          ],
          "name": "stdout"
        }
      ]
    }
  ]
}