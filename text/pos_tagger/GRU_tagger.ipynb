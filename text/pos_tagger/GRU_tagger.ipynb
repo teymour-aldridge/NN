{
  "nbformat": 4,
  "nbformat_minor": 0,
  "metadata": {
    "colab": {
      "name": "POS_tagger.ipynb",
      "version": "0.3.2",
      "provenance": [],
      "collapsed_sections": [
        "OPnkXAEYkbsQ",
        "xq4NRQXT2nj2",
        "tDVhUHZ40R6g"
      ],
      "toc_visible": true,
      "include_colab_link": true
    },
    "kernelspec": {
      "name": "python3",
      "display_name": "Python 3"
    },
    "accelerator": "GPU"
  },
  "cells": [
    {
      "cell_type": "markdown",
      "metadata": {
        "id": "view-in-github",
        "colab_type": "text"
      },
      "source": [
        "<a href=\"https://colab.research.google.com/github/teymour-aldridge/NN/blob/master/text/pos_tagger/GRU_tagger.ipynb\" target=\"_parent\"><img src=\"https://colab.research.google.com/assets/colab-badge.svg\" alt=\"Open In Colab\"/></a>"
      ]
    },
    {
      "metadata": {
        "id": "XY5N0D71bQ-r",
        "colab_type": "code",
        "colab": {
          "base_uri": "https://localhost:8080/",
          "height": 122
        },
        "outputId": "1d8d0e10-1160-4477-87bd-6011273e9f5c"
      },
      "cell_type": "code",
      "source": [
        "from google.colab import drive\n",
        "drive.mount('/content/gdrive')"
      ],
      "execution_count": 2,
      "outputs": [
        {
          "output_type": "stream",
          "text": [
            "Go to this URL in a browser: https://accounts.google.com/o/oauth2/auth?client_id=947318989803-6bn6qk8qdgf4n4g3pfee6491hc0brc4i.apps.googleusercontent.com&redirect_uri=urn%3Aietf%3Awg%3Aoauth%3A2.0%3Aoob&scope=email%20https%3A%2F%2Fwww.googleapis.com%2Fauth%2Fdocs.test%20https%3A%2F%2Fwww.googleapis.com%2Fauth%2Fdrive%20https%3A%2F%2Fwww.googleapis.com%2Fauth%2Fdrive.photos.readonly%20https%3A%2F%2Fwww.googleapis.com%2Fauth%2Fpeopleapi.readonly&response_type=code\n",
            "\n",
            "Enter your authorization code:\n",
            "··········\n",
            "Mounted at /content/gdrive\n"
          ],
          "name": "stdout"
        }
      ]
    },
    {
      "metadata": {
        "id": "zq1KiEe0PgC4",
        "colab_type": "code",
        "colab": {}
      },
      "cell_type": "code",
      "source": [
        "import torch\n",
        "from torch import nn\n",
        "import torch.nn.functional as F\n",
        "import nltk\n",
        "from nltk.corpus import brown"
      ],
      "execution_count": 0,
      "outputs": []
    },
    {
      "metadata": {
        "id": "K2isnNHSquot",
        "colab_type": "code",
        "colab": {
          "base_uri": "https://localhost:8080/",
          "height": 34
        },
        "outputId": "b6d1f45d-bff0-4f03-e097-180d46692657"
      },
      "cell_type": "code",
      "source": [
        "device = torch.device(\"cuda\" if torch.cuda.is_available() else \"cpu\")\n",
        "device"
      ],
      "execution_count": 4,
      "outputs": [
        {
          "output_type": "execute_result",
          "data": {
            "text/plain": [
              "device(type='cuda')"
            ]
          },
          "metadata": {
            "tags": []
          },
          "execution_count": 4
        }
      ]
    },
    {
      "metadata": {
        "id": "OPnkXAEYkbsQ",
        "colab_type": "text"
      },
      "cell_type": "markdown",
      "source": [
        "# Lookup table\n",
        "\n",
        "This is essentially a lookup table, mapping each word to a number. Numbers are useful, because they can be input into a neural network (letters can't).\n",
        "\n",
        "The table is built by looking through every word in the corpus, assigning a number to every word. "
      ]
    },
    {
      "metadata": {
        "id": "1sWoyDTHPsOX",
        "colab_type": "code",
        "colab": {}
      },
      "cell_type": "code",
      "source": [
        "class Lang:\n",
        "  def __init__(self):\n",
        "    # Create a dictionary to map words to numbers\n",
        "    self.word2index = {}\n",
        "    # Create a dictionary to count the frequency of each word\n",
        "    self.word2count = {}\n",
        "    # Create a dictionary to map numbers to words\n",
        "    self.index2word = {}\n",
        "    self.n_words = 0\n",
        "  def add_word(self, word):\n",
        "    # Check if the word is already assigned to a number\n",
        "    if word in self.word2index:\n",
        "      self.word2count[word] += 1\n",
        "    # Otherwise add it to the dictionary\n",
        "    else:\n",
        "      self.word2index[word] = self.n_words\n",
        "      self.index2word[self.n_words] = word\n",
        "      self.word2count[word] = 1\n",
        "      # Increase the total number of words by 1\n",
        "      self.n_words += 1\n",
        "  def add_sentence(self, sentence):\n",
        "    for word in sentence:\n",
        "      self.add_word(word)"
      ],
      "execution_count": 0,
      "outputs": []
    },
    {
      "metadata": {
        "id": "xq4NRQXT2nj2",
        "colab_type": "text"
      },
      "cell_type": "markdown",
      "source": [
        "# Preprocess the dataset\n",
        "\n",
        "The python NLTK (natural language toolkit) is a handly collation of natural language processing tools and datasets. We are interested in a dataset called the Brown Corpus, the first computer-readable general corpus of texts in the english langauge. "
      ]
    },
    {
      "metadata": {
        "id": "QQppGlTtSQ11",
        "colab_type": "code",
        "colab": {
          "base_uri": "https://localhost:8080/",
          "height": 51
        },
        "outputId": "43f11453-3a04-4f0f-b461-269ad57439b2"
      },
      "cell_type": "code",
      "source": [
        "# Download the dataset\n",
        "nltk.download('brown')\n",
        "# Load the sentences\n",
        "brown_dataset = brown.tagged_sents()"
      ],
      "execution_count": 6,
      "outputs": [
        {
          "output_type": "stream",
          "text": [
            "[nltk_data] Downloading package brown to /root/nltk_data...\n",
            "[nltk_data]   Unzipping corpora/brown.zip.\n"
          ],
          "name": "stdout"
        }
      ]
    },
    {
      "metadata": {
        "id": "7IC9kgFfWOLP",
        "colab_type": "code",
        "colab": {}
      },
      "cell_type": "code",
      "source": [
        "from torch.utils.data import Dataset\n",
        "REMOVE_TOKENS = \"',:!01234567.-_+=-?\" + '\"'\n",
        "class POSDataset(Dataset):\n",
        "  def __init__(self, sentences, tagged_sentences, sentence_language, tagged_language):\n",
        "    self.sentences = sentences\n",
        "    self.tagged_sentences = tagged_sentences\n",
        "    self.sents = sentence_language\n",
        "    self.pos_tags = tagged_language\n",
        "    \n",
        "  def __getitem__(self, i):\n",
        "    item, item_tags = self.sentences[i], self.tagged_sentences[i]\n",
        "    item2index = []\n",
        "    item_tags2index = []\n",
        "    for i, token in enumerate(item):\n",
        "      item2index.append(self.sents.word2index[token])\n",
        "    for i, token in enumerate(item_tags):\n",
        "      item_tags2index.append(self.pos_tags.word2index[token])\n",
        "    return torch.tensor(item2index, dtype=torch.long, device=device), torch.tensor(item_tags2index, dtype=torch.long, device=device)\n",
        "  \n",
        "  @classmethod\n",
        "  def from_corpus(cls, corpus):\n",
        "    sentences = []\n",
        "    tagged_sentences = []\n",
        "    for item in corpus:\n",
        "      sentences.append([pair[0].strip(REMOVE_TOKENS) for pair in item if len(pair[0].strip(REMOVE_TOKENS)) > 0])\n",
        "      tagged_sentences.append([pair[1] for pair in item if len(pair[0].strip(REMOVE_TOKENS)) > 0])\n",
        "    sents, pos_tags = Lang(), Lang()\n",
        "    for item in sentences:\n",
        "      sents.add_sentence(item)\n",
        "    for item in tagged_sentences:\n",
        "      pos_tags.add_sentence(item)\n",
        "    return POSDataset(sentences, tagged_sentences, sents, pos_tags)"
      ],
      "execution_count": 0,
      "outputs": []
    },
    {
      "metadata": {
        "id": "5r0Lvs4YY3NV",
        "colab_type": "code",
        "colab": {}
      },
      "cell_type": "code",
      "source": [
        "brown_dataset = POSDataset.from_corpus(brown_dataset)"
      ],
      "execution_count": 0,
      "outputs": []
    },
    {
      "metadata": {
        "id": "kTMon6rC0wri",
        "colab_type": "text"
      },
      "cell_type": "markdown",
      "source": [
        "# Defining the model\n",
        "\n",
        "The model looks something like ```INPUT => WORD EMBEDDING => GATED RECURRENT UNIT(S) => FEEDFORWARD LAYER = > OUTPUTS ```"
      ]
    },
    {
      "metadata": {
        "id": "HzqGiqsKPk8W",
        "colab_type": "code",
        "colab": {}
      },
      "cell_type": "code",
      "source": [
        "class POSTagger(nn.Module):\n",
        "  def __init__(self, embedding_dim, hidden_dim, vocab_size, tagset_size, n_layers, device=device):\n",
        "    super(POSTagger, self).__init__()\n",
        "    self.embedding = nn.Embedding(vocab_size, embedding_dim)\n",
        "    self.gru = nn.GRU(embedding_dim, hidden_dim, n_layers)\n",
        "    self.word2tag = nn.Linear(hidden_dim, tagset_size)\n",
        "  def forward(self, x):\n",
        "    x.to(device)\n",
        "    x = self.embedding(x)\n",
        "    x = x.unsqueeze(0)\n",
        "    x, _ = self.gru(x)\n",
        "    x = self.word2tag(x.view(len(sentence), -1))\n",
        "    x = F.log_softmax(x, dim=1)\n",
        "    return x"
      ],
      "execution_count": 0,
      "outputs": []
    },
    {
      "metadata": {
        "id": "tDVhUHZ40R6g",
        "colab_type": "text"
      },
      "cell_type": "markdown",
      "source": [
        "# Training loop\n",
        "\n",
        "This loop is where we compute our partial derivatives."
      ]
    },
    {
      "metadata": {
        "id": "vDvSKOUiVovp",
        "colab_type": "code",
        "colab": {
          "base_uri": "https://localhost:8080/",
          "height": 405
        },
        "outputId": "8fc5a95b-739c-40bf-c099-664dc5523015"
      },
      "cell_type": "code",
      "source": [
        "import os\n",
        "import time\n",
        "model_save_path = '/content/gdrive/My Drive/Computing/ML/Text/POS tagger/'\n",
        "N_EPOCHS = 100\n",
        "EMBEDDING_DIM = 256\n",
        "HIDDEN_DIM = 12\n",
        "\n",
        "# Work out the vocabulary size\n",
        "vocab_size = len(brown_dataset.sents.word2index)\n",
        "# Work out the size of the output vocabulary\n",
        "tagset_size = len(brown_dataset.pos_tags.word2index)\n",
        "# Initialize the model and (if necessary) move it to the GPU\n",
        "model = POSTagger(EMBEDDING_DIM, HIDDEN_DIM, vocab_size, tagset_size, 1).to(device)\n",
        "# Define a loss function\n",
        "loss_fn = nn.NLLLoss().to(device)\n",
        "# Use stochastic gradient desent\n",
        "optimizer = torch.optim.SGD(model.parameters(), lr=0.001)\n",
        "\n",
        "# Pick up from the last epoch\n",
        "epoch_n = 0 if not os.path.isfile(os.path.join(model_save_path, 'pos_tagger_epoch_count.txt')) else int(open(os.path.join(model_save_path, 'pos_tagger_epoch_count.txt')).read())\n",
        "print(\"Epoch: {}\".format(epoch_n))\n",
        "# Check if there are some saved model weights, and if so, use them. \n",
        "if os.path.isfile(os.path.join(model_save_path, 'pos_tagger_epoch_count.txt')):\n",
        "  model.load_state_dict(torch.load(os.path.join(os.path.join(model_save_path, 'gru_tagger_model_weights.pt'))))\n",
        "  print(\"Loaded weights.\")\n",
        "for i in range(epoch_n, N_EPOCHS):\n",
        "  # Get the time\n",
        "  t = time.time()\n",
        "  # Loop through the entire dataset\n",
        "  for sentence, tags in brown_dataset:\n",
        "    # Ignore the training sample if it is of length 0 or less\n",
        "    \n",
        "    if len(sentence) == 0 or len(tags) == 0:\n",
        "      continue\n",
        "      \n",
        "    # Remove accumulated gradients\n",
        "    model.zero_grad()\n",
        "    # Make a prediction\n",
        "    pred = model(sentence)\n",
        "    # Work out how far off the prediction was\n",
        "    loss = loss_fn(pred, tags)\n",
        "    # Update the model\n",
        "    loss.backward()\n",
        "    \n",
        "    optimizer.step()\n",
        "  # Print the time taken per epoch\n",
        "  print(\"Epoch: {}, Loss: {}, Time: {}\".format(i, loss.item(), time.time() - t))\n",
        "  # Save the weights\n",
        "  torch.save(model.state_dict(), os.path.join(model_save_path, 'gru_tagger_model_weights.pt'))\n",
        "  # Save the epoch count\n",
        "  with open(os.path.join(model_save_path, 'pos_tagger_epoch_count.txt'), 'w+') as f:\n",
        "    f.write(str(i))"
      ],
      "execution_count": 13,
      "outputs": [
        {
          "output_type": "stream",
          "text": [
            "Epoch: 99\n",
            "Loaded weights.\n"
          ],
          "name": "stdout"
        },
        {
          "output_type": "error",
          "ename": "KeyboardInterrupt",
          "evalue": "ignored",
          "traceback": [
            "\u001b[0;31m---------------------------------------------------------------------------\u001b[0m",
            "\u001b[0;31mKeyboardInterrupt\u001b[0m                         Traceback (most recent call last)",
            "\u001b[0;32m<ipython-input-13-2b58bfabf487>\u001b[0m in \u001b[0;36m<module>\u001b[0;34m()\u001b[0m\n\u001b[1;32m     28\u001b[0m   \u001b[0mt\u001b[0m \u001b[0;34m=\u001b[0m \u001b[0mtime\u001b[0m\u001b[0;34m.\u001b[0m\u001b[0mtime\u001b[0m\u001b[0;34m(\u001b[0m\u001b[0;34m)\u001b[0m\u001b[0;34m\u001b[0m\u001b[0;34m\u001b[0m\u001b[0m\n\u001b[1;32m     29\u001b[0m   \u001b[0;31m# Loop through the entire dataset\u001b[0m\u001b[0;34m\u001b[0m\u001b[0;34m\u001b[0m\u001b[0;34m\u001b[0m\u001b[0m\n\u001b[0;32m---> 30\u001b[0;31m   \u001b[0;32mfor\u001b[0m \u001b[0msentence\u001b[0m\u001b[0;34m,\u001b[0m \u001b[0mtags\u001b[0m \u001b[0;32min\u001b[0m \u001b[0mbrown_dataset\u001b[0m\u001b[0;34m:\u001b[0m\u001b[0;34m\u001b[0m\u001b[0;34m\u001b[0m\u001b[0m\n\u001b[0m\u001b[1;32m     31\u001b[0m     \u001b[0;31m# Ignore the training sample if it is of length 0 or less\u001b[0m\u001b[0;34m\u001b[0m\u001b[0;34m\u001b[0m\u001b[0;34m\u001b[0m\u001b[0m\n\u001b[1;32m     32\u001b[0m \u001b[0;34m\u001b[0m\u001b[0m\n",
            "\u001b[0;32m<ipython-input-7-a5f9e2210f9a>\u001b[0m in \u001b[0;36m__getitem__\u001b[0;34m(self, i)\u001b[0m\n\u001b[1;32m     16\u001b[0m     \u001b[0;32mfor\u001b[0m \u001b[0mi\u001b[0m\u001b[0;34m,\u001b[0m \u001b[0mtoken\u001b[0m \u001b[0;32min\u001b[0m \u001b[0menumerate\u001b[0m\u001b[0;34m(\u001b[0m\u001b[0mitem_tags\u001b[0m\u001b[0;34m)\u001b[0m\u001b[0;34m:\u001b[0m\u001b[0;34m\u001b[0m\u001b[0;34m\u001b[0m\u001b[0m\n\u001b[1;32m     17\u001b[0m       \u001b[0mitem_tags2index\u001b[0m\u001b[0;34m.\u001b[0m\u001b[0mappend\u001b[0m\u001b[0;34m(\u001b[0m\u001b[0mself\u001b[0m\u001b[0;34m.\u001b[0m\u001b[0mpos_tags\u001b[0m\u001b[0;34m.\u001b[0m\u001b[0mword2index\u001b[0m\u001b[0;34m[\u001b[0m\u001b[0mtoken\u001b[0m\u001b[0;34m]\u001b[0m\u001b[0;34m)\u001b[0m\u001b[0;34m\u001b[0m\u001b[0;34m\u001b[0m\u001b[0m\n\u001b[0;32m---> 18\u001b[0;31m     \u001b[0;32mreturn\u001b[0m \u001b[0mtorch\u001b[0m\u001b[0;34m.\u001b[0m\u001b[0mtensor\u001b[0m\u001b[0;34m(\u001b[0m\u001b[0mitem2index\u001b[0m\u001b[0;34m,\u001b[0m \u001b[0mdtype\u001b[0m\u001b[0;34m=\u001b[0m\u001b[0mtorch\u001b[0m\u001b[0;34m.\u001b[0m\u001b[0mlong\u001b[0m\u001b[0;34m,\u001b[0m \u001b[0mdevice\u001b[0m\u001b[0;34m=\u001b[0m\u001b[0mdevice\u001b[0m\u001b[0;34m)\u001b[0m\u001b[0;34m,\u001b[0m \u001b[0mtorch\u001b[0m\u001b[0;34m.\u001b[0m\u001b[0mtensor\u001b[0m\u001b[0;34m(\u001b[0m\u001b[0mitem_tags2index\u001b[0m\u001b[0;34m,\u001b[0m \u001b[0mdtype\u001b[0m\u001b[0;34m=\u001b[0m\u001b[0mtorch\u001b[0m\u001b[0;34m.\u001b[0m\u001b[0mlong\u001b[0m\u001b[0;34m,\u001b[0m \u001b[0mdevice\u001b[0m\u001b[0;34m=\u001b[0m\u001b[0mdevice\u001b[0m\u001b[0;34m)\u001b[0m\u001b[0;34m\u001b[0m\u001b[0;34m\u001b[0m\u001b[0m\n\u001b[0m\u001b[1;32m     19\u001b[0m \u001b[0;34m\u001b[0m\u001b[0m\n\u001b[1;32m     20\u001b[0m   \u001b[0;34m@\u001b[0m\u001b[0mclassmethod\u001b[0m\u001b[0;34m\u001b[0m\u001b[0;34m\u001b[0m\u001b[0m\n",
            "\u001b[0;31mKeyboardInterrupt\u001b[0m: "
          ]
        }
      ]
    },
    {
      "metadata": {
        "id": "bgZPm9-b6AD3",
        "colab_type": "text"
      },
      "cell_type": "markdown",
      "source": [
        "# Make a prediction\n",
        "\n",
        "The meaning of each token is given in the [instruction manual](http://clu.uni.no/icame/manuals/BROWN/INDEX.HTM#bc6)."
      ]
    },
    {
      "metadata": {
        "id": "9CYTGajxxYlO",
        "colab_type": "code",
        "colab": {}
      },
      "cell_type": "code",
      "source": [
        "sentence = \"The shops were walked to by me\".split(' ')\n",
        "sentence_tokenized = [brown_dataset.sents.word2index[word] for word in sentence]"
      ],
      "execution_count": 0,
      "outputs": []
    },
    {
      "metadata": {
        "id": "-_4zSxY8xlLJ",
        "colab_type": "code",
        "colab": {
          "base_uri": "https://localhost:8080/",
          "height": 34
        },
        "outputId": "091465c7-6e25-4c64-f5dd-c41364c2bbe6"
      },
      "cell_type": "code",
      "source": [
        "sentence_tokenized = torch.tensor(sentence_tokenized, dtype=torch.long, device=device)\n",
        "pred = model(sentence_tokenized)\n",
        "pred = [torch.argmax(row).item() for row in pred]\n",
        "pred"
      ],
      "execution_count": 21,
      "outputs": [
        {
          "output_type": "execute_result",
          "data": {
            "text/plain": [
              "[0, 22, 67, 4, 24, 7, 35]"
            ]
          },
          "metadata": {
            "tags": []
          },
          "execution_count": 21
        }
      ]
    },
    {
      "metadata": {
        "id": "1gToDoI1yDPG",
        "colab_type": "code",
        "colab": {
          "base_uri": "https://localhost:8080/",
          "height": 34
        },
        "outputId": "e3008c51-6205-4106-a9aa-7c5a0f19e015"
      },
      "cell_type": "code",
      "source": [
        "# Correct!\n",
        "[brown_dataset.pos_tags.index2word[index] for index in pred]"
      ],
      "execution_count": 22,
      "outputs": [
        {
          "output_type": "execute_result",
          "data": {
            "text/plain": [
              "['AT', 'NP', 'BED', 'VBD', 'TO', 'IN', 'PPO']"
            ]
          },
          "metadata": {
            "tags": []
          },
          "execution_count": 22
        }
      ]
    },
    {
      "metadata": {
        "id": "lMZrdKiu6k-Y",
        "colab_type": "code",
        "colab": {}
      },
      "cell_type": "code",
      "source": [
        ""
      ],
      "execution_count": 0,
      "outputs": []
    }
  ]
}