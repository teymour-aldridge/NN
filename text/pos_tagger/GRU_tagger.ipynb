{
  "nbformat": 4,
  "nbformat_minor": 0,
  "metadata": {
    "colab": {
      "name": "POS_tagger.ipynb",
      "version": "0.3.2",
      "provenance": [],
      "collapsed_sections": [],
      "include_colab_link": true
    },
    "kernelspec": {
      "name": "python3",
      "display_name": "Python 3"
    },
    "accelerator": "GPU"
  },
  "cells": [
    {
      "cell_type": "markdown",
      "metadata": {
        "id": "view-in-github",
        "colab_type": "text"
      },
      "source": [
        "<a href=\"https://colab.research.google.com/github/teymour-aldridge/NN/blob/master/text/pos_tagger/GRU_tagger.ipynb\" target=\"_parent\"><img src=\"https://colab.research.google.com/assets/colab-badge.svg\" alt=\"Open In Colab\"/></a>"
      ]
    },
    {
      "metadata": {
        "id": "XY5N0D71bQ-r",
        "colab_type": "code",
        "colab": {
          "base_uri": "https://localhost:8080/",
          "height": 34
        },
        "outputId": "0c441dea-8979-47e1-f541-48d64b259132"
      },
      "cell_type": "code",
      "source": [
        "from google.colab import drive\n",
        "drive.mount('/content/gdrive')"
      ],
      "execution_count": 1,
      "outputs": [
        {
          "output_type": "stream",
          "text": [
            "Drive already mounted at /content/gdrive; to attempt to forcibly remount, call drive.mount(\"/content/gdrive\", force_remount=True).\n"
          ],
          "name": "stdout"
        }
      ]
    },
    {
      "metadata": {
        "id": "zq1KiEe0PgC4",
        "colab_type": "code",
        "colab": {}
      },
      "cell_type": "code",
      "source": [
        "import torch\n",
        "from torch import nn\n",
        "import torch.nn.functional as F\n",
        "import nltk\n",
        "from nltk.corpus import brown"
      ],
      "execution_count": 0,
      "outputs": []
    },
    {
      "metadata": {
        "id": "K2isnNHSquot",
        "colab_type": "code",
        "colab": {}
      },
      "cell_type": "code",
      "source": [
        "device = torch.device(\"cuda\" if torch.cuda.is_available() else \"cpu\")\n",
        "device"
      ],
      "execution_count": 0,
      "outputs": []
    },
    {
      "metadata": {
        "id": "OPnkXAEYkbsQ",
        "colab_type": "text"
      },
      "cell_type": "markdown",
      "source": [
        "# Lookup table\n",
        "\n",
        "This is essentially a lookup table, mapping each word to a number.\n",
        "\n",
        "The table is built by looking through every word in the corpus, assigning a number to every word. "
      ]
    },
    {
      "metadata": {
        "id": "1sWoyDTHPsOX",
        "colab_type": "code",
        "colab": {}
      },
      "cell_type": "code",
      "source": [
        "class Lang:\n",
        "  def __init__(self):\n",
        "    # Create a dictionary to map words to numbers\n",
        "    self.word2index = {}\n",
        "    # Create a dictionary to count the frequency of each word\n",
        "    self.word2count = {}\n",
        "    # Create a dictionary to map numbers to words\n",
        "    self.index2word = {}\n",
        "    self.n_words = 0\n",
        "  def add_word(self, word):\n",
        "    # Check if the word is already assigned to a number\n",
        "    if word in self.word2index:\n",
        "      self.word2count[word] += 1\n",
        "    # Otherwise add it to the dictionary\n",
        "    else:\n",
        "      self.word2index[word] = self.n_words\n",
        "      self.index2word[self.n_words] = word\n",
        "      self.word2count[word] = 1\n",
        "      # Increase the total number of words by 1\n",
        "      self.n_words += 1\n",
        "  def add_sentence(self, sentence):\n",
        "    for word in sentence:\n",
        "      self.add_word(word)"
      ],
      "execution_count": 0,
      "outputs": []
    },
    {
      "metadata": {
        "id": "QQppGlTtSQ11",
        "colab_type": "code",
        "colab": {
          "base_uri": "https://localhost:8080/",
          "height": 51
        },
        "outputId": "af67363f-9e2c-4dd6-8319-a2fe1d88b941"
      },
      "cell_type": "code",
      "source": [
        "# Download the dataset\n",
        "nltk.download('brown')\n",
        "# Load the sentences\n",
        "brown_dataset = brown.tagged_sents()"
      ],
      "execution_count": 5,
      "outputs": [
        {
          "output_type": "stream",
          "text": [
            "[nltk_data] Downloading package brown to /root/nltk_data...\n",
            "[nltk_data]   Package brown is already up-to-date!\n"
          ],
          "name": "stdout"
        }
      ]
    },
    {
      "metadata": {
        "id": "7IC9kgFfWOLP",
        "colab_type": "code",
        "colab": {}
      },
      "cell_type": "code",
      "source": [
        "from torch.utils.data import Dataset\n",
        "REMOVE_TOKENS = \"',:!01234567.-_+=-?\" + '\"'\n",
        "class POSDataset(Dataset):\n",
        "  def __init__(self, sentences, tagged_sentences, sentence_language, tagged_language):\n",
        "    self.sentences = sentences\n",
        "    self.tagged_sentences = tagged_sentences\n",
        "    self.sents = sentence_language\n",
        "    self.pos_tags = tagged_language\n",
        "    \n",
        "  def __getitem__(self, i):\n",
        "    item, item_tags = self.sentences[i], self.tagged_sentences[i]\n",
        "    item2index = []\n",
        "    item_tags2index = []\n",
        "    for i, token in enumerate(item):\n",
        "      item2index.append(self.sents.word2index[token])\n",
        "    for i, token in enumerate(item_tags):\n",
        "      item_tags2index.append(self.pos_tags.word2index[token])\n",
        "    return torch.tensor(item2index, dtype=torch.long, device=device), torch.tensor(item_tags2index, dtype=torch.long, device=device)\n",
        "  \n",
        "  @classmethod\n",
        "  def from_corpus(cls, corpus):\n",
        "    sentences = []\n",
        "    tagged_sentences = []\n",
        "    for item in corpus:\n",
        "      sentences.append([pair[0].strip(REMOVE_TOKENS) for pair in item if len(pair[0].strip(REMOVE_TOKENS)) > 0])\n",
        "      tagged_sentences.append([pair[1] for pair in item if len(pair[0].strip(REMOVE_TOKENS)) > 0])\n",
        "    sents, pos_tags = Lang(), Lang()\n",
        "    for item in sentences:\n",
        "      sents.add_sentence(item)\n",
        "    for item in tagged_sentences:\n",
        "      pos_tags.add_sentence(item)\n",
        "    return POSDataset(sentences, tagged_sentences, sents, pos_tags)"
      ],
      "execution_count": 0,
      "outputs": []
    },
    {
      "metadata": {
        "id": "5r0Lvs4YY3NV",
        "colab_type": "code",
        "colab": {}
      },
      "cell_type": "code",
      "source": [
        "brown_dataset = POSDataset.from_corpus(brown_dataset)"
      ],
      "execution_count": 0,
      "outputs": []
    },
    {
      "metadata": {
        "id": "HzqGiqsKPk8W",
        "colab_type": "code",
        "colab": {}
      },
      "cell_type": "code",
      "source": [
        "class POSTagger(nn.Module):\n",
        "  def __init__(self, embedding_dim, hidden_dim, vocab_size, tagset_size, n_layers, device=device):\n",
        "    super(POSTagger, self).__init__()\n",
        "    self.embedding = nn.Embedding(vocab_size, embedding_dim)\n",
        "    self.gru = nn.GRU(embedding_dim, hidden_dim, n_layers)\n",
        "    self.word2tag = nn.Linear(hidden_dim, tagset_size)\n",
        "  def forward(self, x):\n",
        "    x.to(device)\n",
        "    x = self.embedding(x)\n",
        "    x = x.unsqueeze(0)\n",
        "    x, _ = self.gru(x)\n",
        "    x = self.word2tag(x.view(len(sentence), -1))\n",
        "    x = F.log_softmax(x, dim=1)\n",
        "    return x"
      ],
      "execution_count": 0,
      "outputs": []
    },
    {
      "metadata": {
        "id": "vDvSKOUiVovp",
        "colab_type": "code",
        "colab": {}
      },
      "cell_type": "code",
      "source": [
        "import os\n",
        "import time\n",
        "model_save_path = '/content/gdrive/My Drive/Computing/ML/Text/POS tagger/pos_tagger_weights.pt'\n",
        "\n",
        "N_EPOCHS = 100\n",
        "EMBEDDING_DIM = 256\n",
        "HIDDEN_DIM = 12\n",
        "\n",
        "vocab_size = len(brown_dataset.sents.word2index)\n",
        "tagset_size = len(brown_dataset.pos_tags.word2index)\n",
        "model = POSTagger(EMBEDDING_DIM, HIDDEN_DIM, vocab_size, tagset_size, 1).to(device)\n",
        "loss_fn = nn.NLLLoss().to(device)\n",
        "optimizer = torch.optim.SGD(model.parameters(), lr=0.001)\n",
        "\n",
        "for i in range(N_EPOCHS):\n",
        "  for sentence, tags in brown_dataset:\n",
        "    # Ignore the training sample if it is of length 0 or less\n",
        "    if len(sentence) == 0 or len(tags) == 0:\n",
        "      continue\n",
        "    t = time.time()\n",
        "    model.zero_grad()\n",
        "    \n",
        "    pred = model(sentence)\n",
        "    \n",
        "    loss = loss_fn(pred, tags)\n",
        "    \n",
        "    loss.backward()\n",
        "    optimizer.step()\n",
        "  print(\"Loss: {}, Time: {}\".format(loss.item(), time.time() - t))\n",
        "  torch.save(model.state_dict(), model_save_path)"
      ],
      "execution_count": 0,
      "outputs": []
    }
  ]
}